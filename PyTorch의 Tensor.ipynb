{
  "nbformat": 4,
  "nbformat_minor": 0,
  "metadata": {
    "colab": {
      "name": "PyTorch의 Tensor",
      "version": "0.3.2",
      "provenance": [],
      "collapsed_sections": [],
      "include_colab_link": true
    },
    "kernelspec": {
      "name": "python3",
      "display_name": "Python 3"
    }
  },
  "cells": [
    {
      "cell_type": "markdown",
      "metadata": {
        "id": "view-in-github",
        "colab_type": "text"
      },
      "source": [
        "<a href=\"https://colab.research.google.com/github/ndb796/AI-Theory-and-Practical-Project/blob/master/PyTorch%EC%9D%98%20Tensor.ipynb\" target=\"_parent\"><img src=\"https://colab.research.google.com/assets/colab-badge.svg\" alt=\"Open In Colab\"/></a>"
      ]
    },
    {
      "cell_type": "markdown",
      "metadata": {
        "id": "GUeiRbluTVyL",
        "colab_type": "text"
      },
      "source": [
        "Tensor의 **초기화**"
      ]
    },
    {
      "cell_type": "code",
      "metadata": {
        "id": "2P7PXE5eTWX3",
        "colab_type": "code",
        "colab": {
          "base_uri": "https://localhost:8080/",
          "height": 263
        },
        "outputId": "9fd351ce-1e10-4830-ef5d-16e328ed7017"
      },
      "source": [
        "from __future__ import print_function\n",
        "import torch\n",
        "\n",
        "# 리스트를 Tensor로 변환합니다.\n",
        "a = torch.tensor([1, 2, 3])\n",
        "print(a)\n",
        "\n",
        "# 초기화되지 않은 행렬을 생성합니다.\n",
        "a = torch.empty(4, 5)\n",
        "print(a)\n",
        "\n",
        "# 랜덤 값으로 초기화된 행렬을 생성합니다.\n",
        "a = torch.rand(4, 5)\n",
        "print(a)\n",
        "\n",
        "# 0으로 초기화된 행렬을 생성합니다.\n",
        "a = torch.zeros(5, 3, dtype=torch.long)\n",
        "print(a)"
      ],
      "execution_count": 6,
      "outputs": [
        {
          "output_type": "stream",
          "text": [
            "tensor([1, 2, 3])\n",
            "tensor([[1.8695e-36, 0.0000e+00, 0.0000e+00, 0.0000e+00, 0.0000e+00],\n",
            "        [0.0000e+00, 0.0000e+00, 0.0000e+00, 0.0000e+00, 0.0000e+00],\n",
            "        [0.0000e+00, 0.0000e+00, 0.0000e+00, 0.0000e+00, 0.0000e+00],\n",
            "        [0.0000e+00, 0.0000e+00, 0.0000e+00, 0.0000e+00, 0.0000e+00]])\n",
            "tensor([[0.3077, 0.0372, 0.6517, 0.3955, 0.6162],\n",
            "        [0.3296, 0.7419, 0.7814, 0.8540, 0.0581],\n",
            "        [0.8697, 0.6507, 0.2191, 0.1365, 0.5866],\n",
            "        [0.6668, 0.2653, 0.0097, 0.3237, 0.9265]])\n",
            "tensor([[0, 0, 0],\n",
            "        [0, 0, 0],\n",
            "        [0, 0, 0],\n",
            "        [0, 0, 0],\n",
            "        [0, 0, 0]])\n"
          ],
          "name": "stdout"
        }
      ]
    },
    {
      "cell_type": "markdown",
      "metadata": {
        "id": "A1AztegpTZQv",
        "colab_type": "text"
      },
      "source": [
        "Tensor의 **더하기**"
      ]
    },
    {
      "cell_type": "code",
      "metadata": {
        "id": "40h1sjS3TWuL",
        "colab_type": "code",
        "colab": {
          "base_uri": "https://localhost:8080/",
          "height": 52
        },
        "outputId": "bb75e8df-93d9-4a3d-969f-6a0e96cbd121"
      },
      "source": [
        "from __future__ import print_function\n",
        "import torch\n",
        "\n",
        "# Tensor의 크기를 구합니다.\n",
        "a = torch.tensor([1, 1])\n",
        "print(a.size())\n",
        "\n",
        "# Tensor 더하기\n",
        "b = torch.tensor([2, 3])\n",
        "c = a + b\n",
        "\n",
        "print(c)"
      ],
      "execution_count": 4,
      "outputs": [
        {
          "output_type": "stream",
          "text": [
            "torch.Size([2])\n",
            "tensor([3, 4])\n"
          ],
          "name": "stdout"
        }
      ]
    },
    {
      "cell_type": "markdown",
      "metadata": {
        "id": "Awrc4zbvZPci",
        "colab_type": "text"
      },
      "source": [
        "Tensor의 **곱하기**\n",
        "\n",
        "* 기본적인 Tensor의 곱셈은 동일한 위치의 원소를 곱합니다."
      ]
    },
    {
      "cell_type": "code",
      "metadata": {
        "id": "Hx2h0apMY8t6",
        "colab_type": "code",
        "colab": {
          "base_uri": "https://localhost:8080/",
          "height": 52
        },
        "outputId": "873042c6-4a24-41ba-b95f-9795d73bab78"
      },
      "source": [
        "from __future__ import print_function\n",
        "import torch\n",
        "\n",
        "# Tensor 곱하기\n",
        "a = torch.tensor([[0, 1], [2, 3]])\n",
        "b = torch.tensor([[1, 2], [3, 4]])\n",
        "c = a * b\n",
        "\n",
        "print(c)"
      ],
      "execution_count": 7,
      "outputs": [
        {
          "output_type": "stream",
          "text": [
            "tensor([[ 0,  2],\n",
            "        [ 6, 12]])\n"
          ],
          "name": "stdout"
        }
      ]
    },
    {
      "cell_type": "markdown",
      "metadata": {
        "id": "ZEL8pdm9ZWOR",
        "colab_type": "text"
      },
      "source": [
        "Tensor의 **행렬 곱**\n",
        "\n",
        "* Tensor는 행렬 곱 연산을 지원합니다."
      ]
    },
    {
      "cell_type": "code",
      "metadata": {
        "id": "2TSXAIb2ZSc1",
        "colab_type": "code",
        "colab": {}
      },
      "source": [
        "from __future__ import print_function\n",
        "import torch\n",
        "\n",
        "# Tensor 곱하기\n",
        "a = torch.tensor([[0, 1], [2, 3]])\n",
        "b = torch.tensor([[1, 2], [3, 4]])\n",
        "c = torch.matmul(a, b)\n",
        "\n",
        "print(c)"
      ],
      "execution_count": 0,
      "outputs": []
    },
    {
      "cell_type": "markdown",
      "metadata": {
        "id": "hf83fxJDZbh5",
        "colab_type": "text"
      },
      "source": [
        "서로 다른 형태의 Tensor 연산하기\n",
        "\n",
        "* 브로드캐스트: 형태가 다른 행렬을 연산할 수 있도록 행렬의 형태를 동적으로 변환"
      ]
    },
    {
      "cell_type": "code",
      "metadata": {
        "id": "yuUyWlVUZdLR",
        "colab_type": "code",
        "colab": {
          "base_uri": "https://localhost:8080/",
          "height": 52
        },
        "outputId": "592eff56-5438-47ae-dc24-bc54f099cdd9"
      },
      "source": [
        "from __future__ import print_function\n",
        "import torch\n",
        "\n",
        "# Tensor의 크기를 구합니다.\n",
        "# Tensor 브로드캐스트\n",
        "a = torch.tensor([1, 2, 3])\n",
        "b = torch.tensor([[1, 2, 3], [1, 2, 3]])\n",
        "c = a + b\n",
        "print(c)"
      ],
      "execution_count": 9,
      "outputs": [
        {
          "output_type": "stream",
          "text": [
            "tensor([[2, 4, 6],\n",
            "        [2, 4, 6]])\n"
          ],
          "name": "stdout"
        }
      ]
    },
    {
      "cell_type": "markdown",
      "metadata": {
        "id": "fKpVqanaZg_R",
        "colab_type": "text"
      },
      "source": [
        "Tensor **형태 변경**\n",
        "\n",
        "* Tensor는 인덱싱 표기법을 사용할 수 있습니다.\n",
        "* 다양한 방법으로 형태를 변경할 수 있습니다."
      ]
    },
    {
      "cell_type": "code",
      "metadata": {
        "id": "Yg-oZGttZeUF",
        "colab_type": "code",
        "colab": {
          "base_uri": "https://localhost:8080/",
          "height": 158
        },
        "outputId": "17609ed0-50ea-4238-c15f-a2fcc64224d6"
      },
      "source": [
        "from __future__ import print_function\n",
        "import torch\n",
        "\n",
        "a = torch.tensor([\n",
        "  [0, 1, 2, 3],\n",
        "  [4, 5, 6, 7],\n",
        "  [0, 1, 2, 3],\n",
        "  [4, 5, 6, 7]\n",
        "])\n",
        "\n",
        "print(a[:, 2])\n",
        "a = a.view(16)\n",
        "print(a)\n",
        "a = a.view(4, 4)\n",
        "print(a)\n",
        "a = a.view(-1, 8)\n",
        "print(a)"
      ],
      "execution_count": 14,
      "outputs": [
        {
          "output_type": "stream",
          "text": [
            "tensor([2, 6, 2, 6])\n",
            "tensor([0, 1, 2, 3, 4, 5, 6, 7, 0, 1, 2, 3, 4, 5, 6, 7])\n",
            "tensor([[0, 1, 2, 3],\n",
            "        [4, 5, 6, 7],\n",
            "        [0, 1, 2, 3],\n",
            "        [4, 5, 6, 7]])\n",
            "tensor([[0, 1, 2, 3, 4, 5, 6, 7],\n",
            "        [0, 1, 2, 3, 4, 5, 6, 7]])\n"
          ],
          "name": "stdout"
        }
      ]
    },
    {
      "cell_type": "markdown",
      "metadata": {
        "id": "c5kFh6e2Z0p4",
        "colab_type": "text"
      },
      "source": [
        "Tensor와 Numpy 변환"
      ]
    },
    {
      "cell_type": "code",
      "metadata": {
        "id": "96HMC0hwZjvw",
        "colab_type": "code",
        "colab": {
          "base_uri": "https://localhost:8080/",
          "height": 122
        },
        "outputId": "f96a1184-ce76-4987-a8ef-271b8aaec4f7"
      },
      "source": [
        "from __future__ import print_function\n",
        "import torch\n",
        "import numpy as np\n",
        "\n",
        "a = torch.tensor([\n",
        "  [0, 1, 2, 3],\n",
        "  [4, 5, 6, 7]\n",
        "])\n",
        "print(a)\n",
        "\n",
        "b = a.numpy()\n",
        "print(b)\n",
        "\n",
        "c = torch.from_numpy(b)\n",
        "print(c)"
      ],
      "execution_count": 16,
      "outputs": [
        {
          "output_type": "stream",
          "text": [
            "tensor([[0, 1, 2, 3],\n",
            "        [4, 5, 6, 7]])\n",
            "[[0 1 2 3]\n",
            " [4 5 6 7]]\n",
            "tensor([[0, 1, 2, 3],\n",
            "        [4, 5, 6, 7]])\n"
          ],
          "name": "stdout"
        }
      ]
    }
  ]
}