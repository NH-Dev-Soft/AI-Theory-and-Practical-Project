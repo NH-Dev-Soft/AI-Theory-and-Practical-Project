{
  "nbformat": 4,
  "nbformat_minor": 0,
  "metadata": {
    "colab": {
      "name": "Linear Regression PyTorch로 구현",
      "version": "0.3.2",
      "provenance": [],
      "collapsed_sections": [],
      "include_colab_link": true
    },
    "kernelspec": {
      "name": "python3",
      "display_name": "Python 3"
    }
  },
  "cells": [
    {
      "cell_type": "markdown",
      "metadata": {
        "id": "view-in-github",
        "colab_type": "text"
      },
      "source": [
        "<a href=\"https://colab.research.google.com/github/ndb796/AI-Theory-and-Practical-Project/blob/master/Linear%20Regression%20PyTorch%EB%A1%9C%20%EA%B5%AC%ED%98%84.ipynb\" target=\"_parent\"><img src=\"https://colab.research.google.com/assets/colab-badge.svg\" alt=\"Open In Colab\"/></a>"
      ]
    },
    {
      "cell_type": "code",
      "metadata": {
        "id": "36NAurqECxnn",
        "colab_type": "code",
        "outputId": "2f314271-65b9-4bba-90d6-29bd7010df3d",
        "colab": {
          "base_uri": "https://localhost:8080/",
          "height": 494
        }
      },
      "source": [
        "import matplotlib.pyplot as plt\n",
        "import torch\n",
        "import numpy as np\n",
        "\n",
        "X = [1, 2, 3, 4, 5, 6, 7]\n",
        "Y = [25000, 55000, 75000, 110000, 128000, 155000, 180000]\n",
        "\n",
        "X = [[i] for i in X]\n",
        "Y = [[i] for i in Y]\n",
        "\n",
        "x_data = torch.Tensor(X)\n",
        "y_data = torch.Tensor(Y)\n",
        "  \n",
        "class LinearRegressionModel(torch.nn.Module): \n",
        "    def __init__(self, input_dim, output_dim):\n",
        "        super(LinearRegressionModel, self).__init__() \n",
        "        self.linear = torch.nn.Linear(input_dim, output_dim)\n",
        "    def forward(self, x): \n",
        "        y_pred = self.linear(x)\n",
        "        return y_pred\n",
        "\n",
        "model = LinearRegressionModel(1, 1)\n",
        "  \n",
        "criterion = torch.nn.MSELoss(size_average = True) # True로 설정하면 예제와 동일 (Why?)\n",
        "optimizer = torch.optim.SGD(model.parameters(), lr = 0.001) \n",
        "  \n",
        "for epoch in range(10001): \n",
        "    pred_y = model(x_data)\n",
        "    loss = criterion(pred_y, y_data)\n",
        "    optimizer.zero_grad() \n",
        "    loss.backward() \n",
        "    optimizer.step()\n",
        "    if epoch % 1000 == 0:\n",
        "        print(\"[ epoch: %d, cost: %.2f ]\" % (epoch, loss.data))\n",
        "        print(\"w = %.2f, b = %.2f\" % (model.linear.weight, model.linear.bias))\n",
        "        \n",
        "        \n",
        "print(\"f(x) = %.2fx + %.2f\" % (model.linear.weight, model.linear.bias))\n",
        "print(\"예측값: [%.2f]\" % (model(torch.Tensor([[8]]))))"
      ],
      "execution_count": 19,
      "outputs": [
        {
          "output_type": "stream",
          "text": [
            "/usr/local/lib/python3.6/dist-packages/torch/nn/_reduction.py:46: UserWarning: size_average and reduce args will be deprecated, please use reduction='mean' instead.\n",
            "  warnings.warn(warning.format(ret))\n"
          ],
          "name": "stderr"
        },
        {
          "output_type": "stream",
          "text": [
            "[ epoch: 0, cost: 13454527488.00 ]\n",
            "w = 1037.43, b = 208.10\n",
            "[ epoch: 1000, cost: 9836269.00 ]\n",
            "w = 25147.74, b = 3880.34\n",
            "[ epoch: 2000, cost: 9190469.00 ]\n",
            "w = 25305.79, b = 3097.67\n",
            "[ epoch: 3000, cost: 8891184.00 ]\n",
            "w = 25413.38, b = 2564.87\n",
            "[ epoch: 4000, cost: 8752485.00 ]\n",
            "w = 25486.62, b = 2202.18\n",
            "[ epoch: 5000, cost: 8688199.00 ]\n",
            "w = 25536.48, b = 1955.27\n",
            "[ epoch: 6000, cost: 8658404.00 ]\n",
            "w = 25570.43, b = 1787.19\n",
            "[ epoch: 7000, cost: 8644593.00 ]\n",
            "w = 25593.55, b = 1672.76\n",
            "[ epoch: 8000, cost: 8638196.00 ]\n",
            "w = 25609.28, b = 1594.85\n",
            "[ epoch: 9000, cost: 8635217.00 ]\n",
            "w = 25619.99, b = 1541.81\n",
            "[ epoch: 10000, cost: 8633845.00 ]\n",
            "w = 25627.26, b = 1505.70\n",
            "f(x) = 25627.26x + 1505.70\n",
            "예측값: [206523.80]\n"
          ],
          "name": "stdout"
        }
      ]
    }
  ]
}