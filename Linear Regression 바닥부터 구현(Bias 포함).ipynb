{
  "nbformat": 4,
  "nbformat_minor": 0,
  "metadata": {
    "colab": {
      "name": "Linear Regression 바닥부터 구현(Bias 포함)",
      "version": "0.3.2",
      "provenance": [],
      "collapsed_sections": [],
      "include_colab_link": true
    },
    "kernelspec": {
      "name": "python3",
      "display_name": "Python 3"
    }
  },
  "cells": [
    {
      "cell_type": "markdown",
      "metadata": {
        "id": "view-in-github",
        "colab_type": "text"
      },
      "source": [
        "<a href=\"https://colab.research.google.com/github/ndb796/AI-Theory-and-Practical-Project/blob/master/Linear%20Regression%20%EB%B0%94%EB%8B%A5%EB%B6%80%ED%84%B0%20%EA%B5%AC%ED%98%84(Bias%20%ED%8F%AC%ED%95%A8).ipynb\" target=\"_parent\"><img src=\"https://colab.research.google.com/assets/colab-badge.svg\" alt=\"Open In Colab\"/></a>"
      ]
    },
    {
      "cell_type": "markdown",
      "metadata": {
        "id": "nxLPn-45ke1-",
        "colab_type": "text"
      },
      "source": [
        "## Linear Regression 바닥부터 구현(Bias 포함)\n",
        "\n",
        "* Linear Regression을 Python만을 이용하여 구현합니다."
      ]
    },
    {
      "cell_type": "markdown",
      "metadata": {
        "id": "tuY4AY_Oke7l",
        "colab_type": "text"
      },
      "source": [
        "학습 목적의 데이터 준비\n",
        "\n",
        "|하루 노동 시간| 하루 매출 |\n",
        "|:--------|:--------:|\n",
        "| 1 | 25,000 |\n",
        "| 2 | 55,000 |\n",
        "| 3 | 75,000 |\n",
        "| 4 | 110,000 |\n",
        "| 5 | 128,000 |\n",
        "| 6 | 155,000 |\n",
        "| 7 | 180,000 |\n",
        "\n",
        "* 목표: 하루 노동 시간이 8시간일 때 하루 매출은 얼마가 될까?"
      ]
    },
    {
      "cell_type": "code",
      "metadata": {
        "id": "ijimMcjKkj3F",
        "colab_type": "code",
        "outputId": "86f864b9-aecf-47d4-cabb-01f814eab887",
        "colab": {
          "base_uri": "https://localhost:8080/",
          "height": 286
        }
      },
      "source": [
        "import matplotlib.pyplot as plt\n",
        "\n",
        "X = [1, 2, 3, 4, 5, 6, 7]\n",
        "Y = [25000, 55000, 75000, 110000, 128000, 155000, 180000]\n",
        "\n",
        "plt.plot(X, Y)\n",
        "plt.scatter(X, Y)"
      ],
      "execution_count": 9,
      "outputs": [
        {
          "output_type": "execute_result",
          "data": {
            "text/plain": [
              "<matplotlib.collections.PathCollection at 0x7f6e5e2e1f98>"
            ]
          },
          "metadata": {
            "tags": []
          },
          "execution_count": 9
        },
        {
          "output_type": "display_data",
          "data": {
            "image/png": "[encoded data removed]",
            "text/plain": [
              "<Figure size 432x288 with 1 Axes>"
            ]
          },
          "metadata": {
            "tags": []
          }
        }
      ]
    },
    {
      "cell_type": "code",
      "metadata": {
        "id": "LyjWpK4kkkQv",
        "colab_type": "code",
        "colab": {}
      },
      "source": [
        "# 가설 (학습 시킬 대상)\n",
        "class H():\n",
        "    def __init__(self, w, b):\n",
        "        self.w = w\n",
        "        self.b = b\n",
        "    # 결과를 반환하는 함수\n",
        "    def forward(self, x):\n",
        "        return self.w * x + self.b\n",
        "    # 가설의 비용을 구하는 함수 (낮추어야 할 대상)\n",
        "    def get_cost(self, X, Y):\n",
        "        cost = 0\n",
        "        for i in range(len(X)):\n",
        "            cost += (self.forward(X[i]) - Y[i]) ** 2\n",
        "        cost = cost / len(X)\n",
        "        return cost\n",
        "    # 미분으로 기울기를 계산하는 함수\n",
        "    def get_gradient_using_derivative(self, X, Y):\n",
        "        w_gradient = 0\n",
        "        b_gradient = 0\n",
        "        for i in range(len(X)):\n",
        "            w_gradient += (self.forward(X[i]) - Y[i]) * X[i]\n",
        "            b_gradient += (self.forward(X[i]) - Y[i])\n",
        "        w_gradient = 2 * w_gradient / len(X)\n",
        "        b_gradient = 2 * b_gradient / len(X)\n",
        "        return w_gradient, b_gradient, self.get_cost(X, Y)\n",
        "    # w 값을 변경하는 함수\n",
        "    def set_w(self, w):\n",
        "        self.w = w\n",
        "    # w 값을 반환하는 함수\n",
        "    def get_w(self):\n",
        "        return self.w\n",
        "    # b 값을 변경하는 함수\n",
        "    def set_b(self, b):\n",
        "        self.b = b\n",
        "    # b 값을 반환하는 함수\n",
        "    def get_b(self):\n",
        "        return self.b"
      ],
      "execution_count": 0,
      "outputs": []
    },
    {
      "cell_type": "code",
      "metadata": {
        "id": "S0qHMwvxktDz",
        "colab_type": "code",
        "outputId": "7349eaed-2bff-4430-8e4a-9b3eb000e3b2",
        "colab": {
          "base_uri": "https://localhost:8080/",
          "height": 633
        }
      },
      "source": [
        "w = 4\n",
        "b = 0\n",
        "h = H(w, b)\n",
        "learning_rate = 0.001\n",
        "    \n",
        "for i in range(10001):\n",
        "    w_gradient, b_gradient, cost = h.get_gradient_using_derivative(X, Y)\n",
        "    h.set_w(h.get_w() + learning_rate * -w_gradient)\n",
        "    h.set_b(h.get_b() + learning_rate * -b_gradient)\n",
        "    if i % 1000 == 0:\n",
        "        print(\"[ epoch: %d, cost: %.2f ]\" % (i, cost))\n",
        "        print(\"w = %.2f, w_gradient = %.2f\" % (h.get_w(), w_gradient))\n",
        "        print(\"b = %.2f, b_gradient = %.2f\" % (h.get_b(), b_gradient))\n",
        "        \n",
        "print(\"f(x) = %.2fx + %.2f\" %(h.get_w(), h.get_b()))\n",
        "print(\"예측값: [%.2f]\" %(h.forward(8)))"
      ],
      "execution_count": 26,
      "outputs": [
        {
          "output_type": "stream",
          "text": [
            "[ epoch: 0, cost: 13450708891.43 ]\n",
            "w = 1040.98, w_gradient = -1036982.86\n",
            "b = 207.97, b_gradient = -207968.00\n",
            "[ epoch: 1000, cost: 9835710.05 ]\n",
            "w = 25147.86, w_gradient = -190.39\n",
            "b = 3879.77, b_gradient = 942.78\n",
            "[ epoch: 2000, cost: 9190190.40 ]\n",
            "w = 25305.88, w_gradient = -129.61\n",
            "b = 3097.25, b_gradient = 641.81\n",
            "[ epoch: 3000, cost: 8891034.74 ]\n",
            "w = 25413.46, w_gradient = -88.23\n",
            "b = 2564.54, b_gradient = 436.92\n",
            "[ epoch: 4000, cost: 8752395.88 ]\n",
            "w = 25486.69, w_gradient = -60.06\n",
            "b = 2201.89, b_gradient = 297.44\n",
            "[ epoch: 5000, cost: 8688145.94 ]\n",
            "w = 25536.55, w_gradient = -40.89\n",
            "b = 1955.02, b_gradient = 202.48\n",
            "[ epoch: 6000, cost: 8658370.34 ]\n",
            "w = 25570.48, w_gradient = -27.84\n",
            "b = 1786.96, b_gradient = 137.84\n",
            "[ epoch: 7000, cost: 8644571.32 ]\n",
            "w = 25593.59, w_gradient = -18.95\n",
            "b = 1672.54, b_gradient = 93.84\n",
            "[ epoch: 8000, cost: 8638176.39 ]\n",
            "w = 25609.32, w_gradient = -12.90\n",
            "b = 1594.66, b_gradient = 63.88\n",
            "[ epoch: 9000, cost: 8635212.76 ]\n",
            "w = 25620.02, w_gradient = -8.78\n",
            "b = 1541.64, b_gradient = 43.49\n",
            "[ epoch: 10000, cost: 8633839.31 ]\n",
            "w = 25627.31, w_gradient = -5.98\n",
            "b = 1505.54, b_gradient = 29.60\n",
            "f(x) = 25627.31x + 1505.54\n",
            "예측값: [206524.05]\n"
          ],
          "name": "stdout"
        }
      ]
    },
    {
      "cell_type": "code",
      "metadata": {
        "id": "v_3C1K8GB9R6",
        "colab_type": "code",
        "colab": {
          "base_uri": "https://localhost:8080/",
          "height": 286
        },
        "outputId": "4c1057b2-6e56-43ab-b813-f28d7fabf8e5"
      },
      "source": [
        "x_pred = [i for i in range(11)]\n",
        "y_pred = [h.get_w() * i + h.get_b() for i in range(11)]\n",
        "plt.plot(x_pred, y_pred)\n",
        "plt.scatter(X, Y)"
      ],
      "execution_count": 16,
      "outputs": [
        {
          "output_type": "execute_result",
          "data": {
            "text/plain": [
              "<matplotlib.collections.PathCollection at 0x7f6e5b7d1ef0>"
            ]
          },
          "metadata": {
            "tags": []
          },
          "execution_count": 16
        },
        {
          "output_type": "display_data",
          "data": {
            "image/png": "[encoded data removed]",
            "text/plain": [
              "<Figure size 432x288 with 1 Axes>"
            ]
          },
          "metadata": {
            "tags": []
          }
        }
      ]
    }
  ]
}