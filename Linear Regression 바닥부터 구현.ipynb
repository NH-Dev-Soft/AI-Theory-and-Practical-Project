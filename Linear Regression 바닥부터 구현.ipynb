{
  "nbformat": 4,
  "nbformat_minor": 0,
  "metadata": {
    "colab": {
      "name": "Linear Regression 바닥부터 구현",
      "version": "0.3.2",
      "provenance": [],
      "collapsed_sections": [],
      "include_colab_link": true
    },
    "kernelspec": {
      "name": "python3",
      "display_name": "Python 3"
    }
  },
  "cells": [
    {
      "cell_type": "markdown",
      "metadata": {
        "id": "view-in-github",
        "colab_type": "text"
      },
      "source": [
        "<a href=\"https://colab.research.google.com/github/ndb796/AI-Theory-and-Practical-Project/blob/master/Linear%20Regression%20%EB%B0%94%EB%8B%A5%EB%B6%80%ED%84%B0%20%EA%B5%AC%ED%98%84.ipynb\" target=\"_parent\"><img src=\"https://colab.research.google.com/assets/colab-badge.svg\" alt=\"Open In Colab\"/></a>"
      ]
    },
    {
      "cell_type": "markdown",
      "metadata": {
        "id": "ZrC7QV0ibTc6",
        "colab_type": "text"
      },
      "source": [
        "## Linear Regression 바닥부터 구현\n",
        "\n",
        "* Linear Regression을 Python만을 이용하여 구현합니다."
      ]
    },
    {
      "cell_type": "markdown",
      "metadata": {
        "id": "BqInpE91eR_9",
        "colab_type": "text"
      },
      "source": [
        "학습 목적의 데이터 준비\n",
        "\n",
        "|하루 노동 시간| 하루 매출 |\n",
        "|:--------|:--------:|\n",
        "| 1 | 25,000 |\n",
        "| 2 | 55,000 |\n",
        "| 3 | 75,000 |\n",
        "| 4 | 110,000 |\n",
        "| 5 | 128,000 |\n",
        "| 6 | 155,000 |\n",
        "| 7 | 180,000 |\n",
        "\n",
        "* 목표: 하루 노동 시간이 8시간일 때 하루 매출은 얼마가 될까?"
      ]
    },
    {
      "cell_type": "code",
      "metadata": {
        "id": "Jkbzz_rsbSE3",
        "colab_type": "code",
        "outputId": "5b0ca87a-0d98-45df-b809-b1b2ccfedb90",
        "colab": {
          "base_uri": "https://localhost:8080/",
          "height": 286
        }
      },
      "source": [
        "import matplotlib.pyplot as plt\n",
        "\n",
        "X = [1, 2, 3, 4, 5, 6, 7]\n",
        "Y = [25000, 55000, 75000, 110000, 128000, 155000, 180000]\n",
        "\n",
        "plt.plot(X, Y)\n",
        "plt.scatter(X, Y)"
      ],
      "execution_count": 36,
      "outputs": [
        {
          "output_type": "execute_result",
          "data": {
            "text/plain": [
              "<matplotlib.collections.PathCollection at 0x7f8f40377cc0>"
            ]
          },
          "metadata": {
            "tags": []
          },
          "execution_count": 36
        },
        {
          "output_type": "display_data",
          "data": {
            "image/png": "[encoded data removed]",
            "text/plain": [
              "<Figure size 432x288 with 1 Axes>"
            ]
          },
          "metadata": {
            "tags": []
          }
        }
      ]
    },
    {
      "cell_type": "markdown",
      "metadata": {
        "id": "oia_qWIrfzi8",
        "colab_type": "text"
      },
      "source": [
        "가설 클래스를 정의합니다.\n",
        "\n",
        "* Forward: 모델에서 정방향으로(왼쪽에서 오른쪽으로) 입력을 받아 결과를 출력하는 과정"
      ]
    },
    {
      "cell_type": "code",
      "metadata": {
        "id": "aNW6Yi-sbT6Q",
        "colab_type": "code",
        "colab": {}
      },
      "source": [
        "# 가설 (학습 시킬 대상)\n",
        "class H():\n",
        "    def __init__(self, w):\n",
        "        self.w = w\n",
        "    # 결과를 반환하는 함수\n",
        "    def forward(self, x):\n",
        "        return self.w * x\n",
        "    # 가설의 비용을 구하는 함수 (낮추어야 할 대상)\n",
        "    def get_cost(self, X, Y):\n",
        "        cost = 0\n",
        "        for i in range(len(X)):\n",
        "            cost += (self.forward(X[i]) - Y[i]) ** 2\n",
        "        cost = cost / len(X)\n",
        "        return cost\n",
        "    # 기울기를 계산하는 함수\n",
        "    def get_gradient(self, X, Y):\n",
        "        cost = self.get_cost(X, Y)\n",
        "        dw = 0.001\n",
        "        self.w = self.w + dw\n",
        "        next_cost = self.get_cost(X, Y)\n",
        "        self.w = self.w - dw\n",
        "        dcost = next_cost - cost\n",
        "        gradient = dcost / dw\n",
        "        return gradient, next_cost\n",
        "    # 미분으로 기울기를 계산하는 함수\n",
        "    def get_gradient_using_derivative(self, X, Y):\n",
        "        gradient= 0\n",
        "        for i in range(len(X)):\n",
        "            gradient += (h.forward(X[i]) - Y[i]) * X[i]\n",
        "        gradient = gradient / len(X)\n",
        "        cost = self.get_cost(X, Y)\n",
        "        return gradient, cost\n",
        "    # w 값을 변경하는 함수\n",
        "    def set_w(self, w):\n",
        "        self.w = w\n",
        "    # w 값을 반환하는 함수\n",
        "    def get_w(self):\n",
        "        return self.w"
      ],
      "execution_count": 0,
      "outputs": []
    },
    {
      "cell_type": "markdown",
      "metadata": {
        "id": "f57E5pEIfxQE",
        "colab_type": "text"
      },
      "source": [
        "W에 따른 비용 확인하기"
      ]
    },
    {
      "cell_type": "code",
      "metadata": {
        "id": "8QNJoZHxcx1K",
        "colab_type": "code",
        "outputId": "f284137f-8dfc-47cd-f309-251962190fd5",
        "colab": {
          "base_uri": "https://localhost:8080/",
          "height": 511
        }
      },
      "source": [
        "cost_list = []\n",
        "w_list = []\n",
        "\n",
        "# w를 -300,000부터 300,000까지 바꾸어 보며 비용 확인\n",
        "for i in range(-300, 300):\n",
        "    w = i * 1000\n",
        "    h = H(w)\n",
        "    cost = h.get_cost(X, Y)\n",
        "    w_list.append(w)\n",
        "    cost_list.append(cost)\n",
        "\n",
        "# 결과적으로 약 25,000 정도일 때 최소 비용임을 확인\n",
        "plt.figure(figsize=(8, 8))\n",
        "plt.scatter(w_list, cost_list, s=10)"
      ],
      "execution_count": 23,
      "outputs": [
        {
          "output_type": "execute_result",
          "data": {
            "text/plain": [
              "<matplotlib.collections.PathCollection at 0x7f8f4064e160>"
            ]
          },
          "metadata": {
            "tags": []
          },
          "execution_count": 23
        },
        {
          "output_type": "display_data",
          "data": {
            "image/png": "[encoded data removed]",
            "text/plain": [
              "<Figure size 576x576 with 1 Axes>"
            ]
          },
          "metadata": {
            "tags": []
          }
        }
      ]
    },
    {
      "cell_type": "markdown",
      "metadata": {
        "id": "V9z2RJUofs_k",
        "colab_type": "text"
      },
      "source": [
        "기본적인 기울기 함수를 이용하여 학습을 진행합니다."
      ]
    },
    {
      "cell_type": "code",
      "metadata": {
        "id": "_OE5YtQ5c51x",
        "colab_type": "code",
        "outputId": "3660c9e5-9ee7-4a9c-c6d8-600b6bc2e015",
        "colab": {
          "base_uri": "https://localhost:8080/",
          "height": 439
        }
      },
      "source": [
        "w = 4\n",
        "h = H(w)\n",
        "learning_rate = 0.001\n",
        "    \n",
        "for i in range(1001):\n",
        "    gradient, cost = h.get_gradient(X, Y)\n",
        "    h.set_w(h.get_w() + learning_rate * -gradient)\n",
        "    if i % 100 == 0:\n",
        "        print(\"[ epoch: %d, cost: %.2f ]\" % (i, cost))\n",
        "        print(\"w = %.2f, w_gradient = %.2f\" % (h.get_w(), gradient))\n",
        "        \n",
        "print(\"f(x) = %.2fx\" %(h.get_w()))\n",
        "print(\"예측값: [%.2f]\" %(h.forward(8)))"
      ],
      "execution_count": 37,
      "outputs": [
        {
          "output_type": "stream",
          "text": [
            "[ epoch: 0, cost: 13450707854.45 ]\n",
            "w = 1040.98, w_gradient = -1036982.84\n",
            "[ epoch: 100, cost: 12866409.33 ]\n",
            "w = 25508.71, w_gradient = -17494.23\n",
            "[ epoch: 200, cost: 9041904.97 ]\n",
            "w = 25921.49, w_gradient = -295.13\n",
            "[ epoch: 300, cost: 9040816.63 ]\n",
            "w = 25928.45, w_gradient = -4.98\n",
            "[ epoch: 400, cost: 9040816.33 ]\n",
            "w = 25928.57, w_gradient = -0.08\n",
            "[ epoch: 500, cost: 9040816.33 ]\n",
            "w = 25928.57, w_gradient = -0.00\n",
            "[ epoch: 600, cost: 9040816.33 ]\n",
            "w = 25928.57, w_gradient = -0.00\n",
            "[ epoch: 700, cost: 9040816.33 ]\n",
            "w = 25928.57, w_gradient = 0.00\n",
            "[ epoch: 800, cost: 9040816.33 ]\n",
            "w = 25928.57, w_gradient = 0.00\n",
            "[ epoch: 900, cost: 9040816.33 ]\n",
            "w = 25928.57, w_gradient = 0.00\n",
            "[ epoch: 1000, cost: 9040816.33 ]\n",
            "w = 25928.57, w_gradient = 0.00\n",
            "f(x) = 25928.57x\n",
            "예측값: [207428.57]\n"
          ],
          "name": "stdout"
        }
      ]
    },
    {
      "cell_type": "markdown",
      "metadata": {
        "id": "RdXCLyWffnJc",
        "colab_type": "text"
      },
      "source": [
        "편미분을 활용한 기울기 함수를 이용하여 학습을 진행할 수도 있습니다."
      ]
    },
    {
      "cell_type": "code",
      "metadata": {
        "id": "MbKhpDhldyR2",
        "colab_type": "code",
        "outputId": "04d0fc5a-3857-4beb-9d88-4e8ca2ca2a50",
        "colab": {
          "base_uri": "https://localhost:8080/",
          "height": 439
        }
      },
      "source": [
        "w = 4\n",
        "h = H(w)\n",
        "learning_rate = 0.001\n",
        "    \n",
        "for i in range(1001):\n",
        "    gradient, cost = h.get_gradient_using_derivative(X, Y)\n",
        "    h.set_w(h.get_w() + learning_rate * -gradient)\n",
        "    if i % 100 == 0:\n",
        "        print(\"[ epoch: %d, cost: %.2f ]\" % (i, cost))\n",
        "        print(\"w = %.2f, w_gradient = %.2f\" % (h.get_w(), gradient))\n",
        "        \n",
        "print(\"f(x) = %.2fx\" %(h.get_w()))\n",
        "print(\"예측값: [%.2f]\" %(h.forward(8)))"
      ],
      "execution_count": 38,
      "outputs": [
        {
          "output_type": "stream",
          "text": [
            "[ epoch: 0, cost: 13450708891.43 ]\n",
            "w = 522.49, w_gradient = -518491.43\n",
            "[ epoch: 100, cost: 245452156.72 ]\n",
            "w = 22559.23, w_gradient = -68762.10\n",
            "[ epoch: 200, cost: 13198806.36 ]\n",
            "w = 25481.73, w_gradient = -9119.20\n",
            "[ epoch: 300, cost: 9113946.83 ]\n",
            "w = 25869.31, w_gradient = -1209.38\n",
            "[ epoch: 400, cost: 9042102.54 ]\n",
            "w = 25920.71, w_gradient = -160.39\n",
            "[ epoch: 500, cost: 9040838.95 ]\n",
            "w = 25927.53, w_gradient = -21.27\n",
            "[ epoch: 600, cost: 9040816.72 ]\n",
            "w = 25928.43, w_gradient = -2.82\n",
            "[ epoch: 700, cost: 9040816.33 ]\n",
            "w = 25928.55, w_gradient = -0.37\n",
            "[ epoch: 800, cost: 9040816.33 ]\n",
            "w = 25928.57, w_gradient = -0.05\n",
            "[ epoch: 900, cost: 9040816.33 ]\n",
            "w = 25928.57, w_gradient = -0.01\n",
            "[ epoch: 1000, cost: 9040816.33 ]\n",
            "w = 25928.57, w_gradient = -0.00\n",
            "f(x) = 25928.57x\n",
            "예측값: [207428.57]\n"
          ],
          "name": "stdout"
        }
      ]
    },
    {
      "cell_type": "code",
      "metadata": {
        "id": "wvfP77g_BWZR",
        "colab_type": "code",
        "colab": {
          "base_uri": "https://localhost:8080/",
          "height": 286
        },
        "outputId": "bcab54b2-18f2-49d8-807c-942ccdaa3e98"
      },
      "source": [
        "x_pred = [i for i in range(11)]\n",
        "y_pred = [h.get_w() * i for i in range(11)]\n",
        "plt.plot(x_pred, y_pred)\n",
        "plt.scatter(X, Y)"
      ],
      "execution_count": 34,
      "outputs": [
        {
          "output_type": "execute_result",
          "data": {
            "text/plain": [
              "<matplotlib.collections.PathCollection at 0x7f8f405359b0>"
            ]
          },
          "metadata": {
            "tags": []
          },
          "execution_count": 34
        },
        {
          "output_type": "display_data",
          "data": {
            "image/png": "[encoded data removed]",
            "text/plain": [
              "<Figure size 432x288 with 1 Axes>"
            ]
          },
          "metadata": {
            "tags": []
          }
        }
      ]
    }
  ]
}