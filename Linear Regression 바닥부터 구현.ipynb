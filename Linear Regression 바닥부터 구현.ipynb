{
  "nbformat": 4,
  "nbformat_minor": 0,
  "metadata": {
    "colab": {
      "name": "Linear Regression 바닥부터 구현",
      "version": "0.3.2",
      "provenance": [],
      "collapsed_sections": [],
      "include_colab_link": true
    },
    "kernelspec": {
      "name": "python3",
      "display_name": "Python 3"
    }
  },
  "cells": [
    {
      "cell_type": "markdown",
      "metadata": {
        "id": "view-in-github",
        "colab_type": "text"
      },
      "source": [
        "<a href=\"https://colab.research.google.com/github/ndb796/AI-Theory-and-Practical-Project/blob/master/Linear%20Regression%20%EB%B0%94%EB%8B%A5%EB%B6%80%ED%84%B0%20%EA%B5%AC%ED%98%84.ipynb\" target=\"_parent\"><img src=\"https://colab.research.google.com/assets/colab-badge.svg\" alt=\"Open In Colab\"/></a>"
      ]
    },
    {
      "cell_type": "markdown",
      "metadata": {
        "id": "ZrC7QV0ibTc6",
        "colab_type": "text"
      },
      "source": [
        "## Linear Regression 구현\n",
        "\n",
        "* Linear Regression을 Python만을 이용하여 구현합니다."
      ]
    },
    {
      "cell_type": "markdown",
      "metadata": {
        "id": "BqInpE91eR_9",
        "colab_type": "text"
      },
      "source": [
        "학습 목적의 데이터 준비\n",
        "\n",
        "|하루 노동 시간| 하루 매출 |\n",
        "|:--------|:--------:|\n",
        "| 1 | 25,000 |\n",
        "| 2 | 55,000 |\n",
        "| 3 | 75,000 |\n",
        "| 4 | 110,000 |\n",
        "| 5 | 128,000 |\n",
        "| 6 | 155,000 |\n",
        "| 7 | 180,000 |\n",
        "\n",
        "* 목표: 하루 노동 시간이 8시간일 때 하루 매출은 얼마가 될까?"
      ]
    },
    {
      "cell_type": "code",
      "metadata": {
        "id": "Jkbzz_rsbSE3",
        "colab_type": "code",
        "colab": {
          "base_uri": "https://localhost:8080/",
          "height": 286
        },
        "outputId": "23160f7c-6431-47a9-de68-95b76247766e"
      },
      "source": [
        "import matplotlib.pyplot as plt\n",
        "\n",
        "X = [1, 2, 3, 4, 5, 6, 7]\n",
        "Y = [25000, 55000, 75000, 110000, 128000, 155000, 180000]\n",
        "\n",
        "plt.plot(X, Y)\n",
        "plt.scatter(X, Y)"
      ],
      "execution_count": 3,
      "outputs": [
        {
          "output_type": "execute_result",
          "data": {
            "text/plain": [
              "<matplotlib.collections.PathCollection at 0x7f246b26e828>"
            ]
          },
          "metadata": {
            "tags": []
          },
          "execution_count": 3
        },
        {
          "output_type": "display_data",
          "data": {
            "image/png": "[encoded data removed]",
            "text/plain": [
              "<Figure size 432x288 with 1 Axes>"
            ]
          },
          "metadata": {
            "tags": []
          }
        }
      ]
    },
    {
      "cell_type": "markdown",
      "metadata": {
        "id": "oia_qWIrfzi8",
        "colab_type": "text"
      },
      "source": [
        "가설 클래스를 정의합니다.\n",
        "\n",
        "* Forward: 모델에서 정방향으로(왼쪽에서 오른쪽으로) 입력을 받아 결과를 출력하는 과정"
      ]
    },
    {
      "cell_type": "code",
      "metadata": {
        "id": "aNW6Yi-sbT6Q",
        "colab_type": "code",
        "colab": {}
      },
      "source": [
        "# 가설 (학습 시킬 대상)\n",
        "class H():\n",
        "    def __init__(self, w):\n",
        "        self.w = w\n",
        "    # 결과를 반환하는 함수\n",
        "    def forward(self, x):\n",
        "        return self.w * x\n",
        "    # 가설의 비용을 구하는 함수 (낮추어야 할 대상)\n",
        "    def get_cost(self, X, Y):\n",
        "        cost = 0\n",
        "        for i in range(len(X)):\n",
        "            cost += (self.forward(X[i]) - Y[i]) ** 2\n",
        "        cost = cost / len(X)\n",
        "        return cost\n",
        "    # 기울기를 계산하는 함수\n",
        "    def get_gradient(self, X, Y):\n",
        "        cost = self.get_cost(X, Y)\n",
        "        dw = 0.001\n",
        "        self.w = self.w + dw\n",
        "        next_cost = self.get_cost(X, Y)\n",
        "        self.w = self.w - dw\n",
        "        dcost = next_cost - cost\n",
        "        gradient = dcost / dw\n",
        "        return gradient, next_cost\n",
        "    # 미분으로 기울기를 계산하는 함수\n",
        "    def get_gradient_using_derivative(self, X, Y):\n",
        "        gradient= 0\n",
        "        for i in range(len(X)):\n",
        "            gradient += (h.forward(X[i]) - Y[i]) * X[i]\n",
        "        gradient = gradient / len(X)\n",
        "        cost = self.get_cost(X, Y)\n",
        "        return gradient, cost\n",
        "    # w 값을 변경하는 함수\n",
        "    def set_w(self, w):\n",
        "        self.w = w\n",
        "    # w 값을 반환하는 함수\n",
        "    def get_w(self):\n",
        "        return self.w"
      ],
      "execution_count": 0,
      "outputs": []
    },
    {
      "cell_type": "markdown",
      "metadata": {
        "id": "f57E5pEIfxQE",
        "colab_type": "text"
      },
      "source": [
        "W에 따른 비용 확인하기"
      ]
    },
    {
      "cell_type": "code",
      "metadata": {
        "id": "8QNJoZHxcx1K",
        "colab_type": "code",
        "colab": {
          "base_uri": "https://localhost:8080/",
          "height": 511
        },
        "outputId": "ef0fd54a-3249-48bb-d539-1551ff6c359d"
      },
      "source": [
        "cost_list = []\n",
        "w_list = []\n",
        "\n",
        "# w를 -300,000부터 300,000까지 바꾸어 보며 비용 확인\n",
        "for i in range(-300, 300):\n",
        "    w = i * 1000\n",
        "    h = H(w)\n",
        "    cost = h.get_cost(X, Y)\n",
        "    w_list.append(w)\n",
        "    cost_list.append(cost)\n",
        "\n",
        "# 결과적으로 약 25,000 정도일 때 최소 비용임을 확인\n",
        "plt.figure(figsize=(8, 8))\n",
        "plt.scatter(w_list, cost_list, s=10)"
      ],
      "execution_count": 11,
      "outputs": [
        {
          "output_type": "execute_result",
          "data": {
            "text/plain": [
              "<matplotlib.collections.PathCollection at 0x7f246b127400>"
            ]
          },
          "metadata": {
            "tags": []
          },
          "execution_count": 11
        },
        {
          "output_type": "display_data",
          "data": {
            "image/png": "[encoded data removed]",
            "text/plain": [
              "<Figure size 576x576 with 1 Axes>"
            ]
          },
          "metadata": {
            "tags": []
          }
        }
      ]
    },
    {
      "cell_type": "markdown",
      "metadata": {
        "id": "V9z2RJUofs_k",
        "colab_type": "text"
      },
      "source": [
        "기본적인 기울기 함수를 이용하여 학습을 진행합니다."
      ]
    },
    {
      "cell_type": "code",
      "metadata": {
        "id": "_OE5YtQ5c51x",
        "colab_type": "code",
        "colab": {
          "base_uri": "https://localhost:8080/",
          "height": 228
        },
        "outputId": "6f088ea1-6c33-49a8-dcb2-8d9b084d9095"
      },
      "source": [
        "w = 4\n",
        "h = H(w)\n",
        "learning_rate = 0.001\n",
        "    \n",
        "for i in range(1001):\n",
        "    gradient, cost = h.get_gradient(X, Y)\n",
        "    h.set_w(h.get_w() + learning_rate * -gradient)\n",
        "    if i % 100 == 0:\n",
        "        print(i, ':', h.get_w(), cost, gradient)\n",
        "        \n",
        "print(h.forward(8))"
      ],
      "execution_count": 20,
      "outputs": [
        {
          "output_type": "stream",
          "text": [
            "0 : 1040.982837677002 13450707854.445734 -1036982.837677002\n",
            "100 : 25508.7093696855 12866409.329345493 -17494.231628254056\n",
            "200 : 25921.487729942426 9041904.974602956 -295.13327591121197\n",
            "300 : 25928.451432697475 9040816.633925963 -4.97899204492569\n",
            "400 : 25928.56891258061 9040816.326581813 -0.08399970829486847\n",
            "500 : 25928.570894498378 9040816.326534929 -0.0014174729585647583\n",
            "600 : 25928.570927930996 9040816.326535601 -2.60770320892334e-05\n",
            "700 : 25928.570928480476 9040816.326535614 0.0\n",
            "800 : 25928.570928480476 9040816.326535614 0.0\n",
            "900 : 25928.570928480476 9040816.326535614 0.0\n",
            "1000 : 25928.570928480476 9040816.326535614 0.0\n",
            "207428.5674278438\n"
          ],
          "name": "stdout"
        }
      ]
    },
    {
      "cell_type": "markdown",
      "metadata": {
        "id": "RdXCLyWffnJc",
        "colab_type": "text"
      },
      "source": [
        "편미분을 활용한 기울기 함수를 이용하여 학습을 진행할 수도 있습니다."
      ]
    },
    {
      "cell_type": "code",
      "metadata": {
        "id": "MbKhpDhldyR2",
        "colab_type": "code",
        "colab": {
          "base_uri": "https://localhost:8080/",
          "height": 228
        },
        "outputId": "8ec553b8-2c37-4241-eee1-31883c997256"
      },
      "source": [
        "w = 4\n",
        "h = H(w)\n",
        "learning_rate = 0.001\n",
        "    \n",
        "for i in range(1001):\n",
        "    gradient, cost = h.get_gradient_using_derivative(X, Y)\n",
        "    h.set_w(h.get_w() + learning_rate * -gradient)\n",
        "    if i % 100 == 0:\n",
        "        print(i, ':', h.get_w(), cost, gradient)\n",
        "        \n",
        "print(h.forward(8))"
      ],
      "execution_count": 19,
      "outputs": [
        {
          "output_type": "stream",
          "text": [
            "0 : 522.4914285714286 13450708891.428572 -518491.4285714286\n",
            "100 : 22559.22838194486 245452156.7232572 -68762.10299237898\n",
            "200 : 25481.730650070742 13198806.358415255 -9119.199561238527\n",
            "300 : 25869.311602971 9113946.833198523 -1209.3841959271615\n",
            "400 : 25920.7124168179 9042102.54197713 -160.3879949699684\n",
            "500 : 25927.529169922913 9040838.948419202 -21.270584663615278\n",
            "600 : 25928.43320469233 9040816.72440319 -2.820895491753098\n",
            "700 : 25928.553097381973 9040816.333528368 -0.37410590728437193\n",
            "800 : 25928.56899749722 9040816.326653682 -0.04961375936753549\n",
            "900 : 25928.571106163447 9040816.32653277 -0.006579754737945872\n",
            "1000 : 25928.571385813826 9040816.326530641 -0.0008726041799361285\n",
            "207428.5710865106\n"
          ],
          "name": "stdout"
        }
      ]
    }
  ]
}