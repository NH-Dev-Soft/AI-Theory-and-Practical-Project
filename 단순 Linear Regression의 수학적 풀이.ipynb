{
  "nbformat": 4,
  "nbformat_minor": 0,
  "metadata": {
    "colab": {
      "name": "단순 Linear Regression의 수학적 풀이",
      "version": "0.3.2",
      "provenance": [],
      "collapsed_sections": [],
      "include_colab_link": true
    },
    "kernelspec": {
      "name": "python3",
      "display_name": "Python 3"
    }
  },
  "cells": [
    {
      "cell_type": "markdown",
      "metadata": {
        "id": "view-in-github",
        "colab_type": "text"
      },
      "source": [
        "<a href=\"https://colab.research.google.com/github/ndb796/AI-Theory-and-Practical-Project/blob/master/%EB%8B%A8%EC%88%9C%20Linear%20Regression%EC%9D%98%20%EC%88%98%ED%95%99%EC%A0%81%20%ED%92%80%EC%9D%B4.ipynb\" target=\"_parent\"><img src=\"https://colab.research.google.com/assets/colab-badge.svg\" alt=\"Open In Colab\"/></a>"
      ]
    },
    {
      "cell_type": "markdown",
      "metadata": {
        "id": "0bD-Fgzt7emT",
        "colab_type": "text"
      },
      "source": [
        "## 단순 Linear Regression의 수학적 풀이\n",
        "\n",
        "* Linear Regression을 Python만을 이용하여 수학적으로 계산합니다."
      ]
    },
    {
      "cell_type": "markdown",
      "metadata": {
        "id": "6eJGw2Vq7xf5",
        "colab_type": "text"
      },
      "source": [
        "학습 목적의 데이터 준비\n",
        "\n",
        "|하루 노동 시간| 하루 매출 |\n",
        "|:--------|:--------:|\n",
        "| 1 | 25,000 |\n",
        "| 2 | 55,000 |\n",
        "| 3 | 75,000 |\n",
        "| 4 | 110,000 |\n",
        "| 5 | 128,000 |\n",
        "| 6 | 155,000 |\n",
        "| 7 | 180,000 |\n",
        "\n",
        "* 목표: 하루 노동 시간이 8시간일 때 하루 매출은 얼마가 될까?"
      ]
    },
    {
      "cell_type": "code",
      "metadata": {
        "id": "ApWwAJ0M7qAj",
        "colab_type": "code",
        "colab": {
          "base_uri": "https://localhost:8080/",
          "height": 286
        },
        "outputId": "948ef644-85d8-42c4-9332-a0bd5e9f6489"
      },
      "source": [
        "import matplotlib.pyplot as plt\n",
        "\n",
        "X = [1, 2, 3, 4, 5, 6, 7]\n",
        "Y = [25000, 55000, 75000, 110000, 128000, 155000, 180000]\n",
        "\n",
        "plt.plot(X, Y)\n",
        "plt.scatter(X, Y)"
      ],
      "execution_count": 1,
      "outputs": [
        {
          "output_type": "execute_result",
          "data": {
            "text/plain": [
              "<matplotlib.collections.PathCollection at 0x7f489a717748>"
            ]
          },
          "metadata": {
            "tags": []
          },
          "execution_count": 1
        },
        {
          "output_type": "display_data",
          "data": {
            "image/png": "[encoded data removed]",
            "text/plain": [
              "<Figure size 432x288 with 1 Axes>"
            ]
          },
          "metadata": {
            "tags": []
          }
        }
      ]
    },
    {
      "cell_type": "markdown",
      "metadata": {
        "id": "sxtF2ZXk72mT",
        "colab_type": "text"
      },
      "source": [
        "### 표준공분산(Sample Covariance)\n",
        "\n",
        "공분산 공식: (Xi - E(X))(Yi - E(Y))의 평균\n",
        "\n",
        "분산 공식: (Xi - E(X))(Xi - E(X))의 평균"
      ]
    },
    {
      "cell_type": "code",
      "metadata": {
        "id": "npXBNRJg7yyx",
        "colab_type": "code",
        "colab": {}
      },
      "source": [
        "def E(X):\n",
        "    avg = sum(X) / len(X)\n",
        "    return avg\n",
        "\n",
        "def cov(X, Y):\n",
        "    E_x = E(X)\n",
        "    E_y = E(Y)\n",
        "    result = 0.0\n",
        "    for i in range(len(X)):\n",
        "        result += (X[i] - E_x) * (Y[i] - E_y)\n",
        "    result /= len(X)\n",
        "    return result\n",
        "\n",
        "def var(X):\n",
        "    E_x = E(X)\n",
        "    result = 0.0\n",
        "    for i in range(len(X)):\n",
        "        result += (X[i] - E_x) ** 2\n",
        "    result /= len(X)\n",
        "    return result"
      ],
      "execution_count": 0,
      "outputs": []
    },
    {
      "cell_type": "code",
      "metadata": {
        "id": "qchRDays8kqA",
        "colab_type": "code",
        "colab": {
          "base_uri": "https://localhost:8080/",
          "height": 34
        },
        "outputId": "d695df9a-b51c-482d-b2f3-4a28bfb8a7ae"
      },
      "source": [
        "w = cov(X, Y) / var(X)\n",
        "b = E(Y) - E(X) * w\n",
        "\n",
        "print(\"w = %.2f, b = %.2f\" % (w, b))"
      ],
      "execution_count": 32,
      "outputs": [
        {
          "output_type": "stream",
          "text": [
            "w = 25642.86, b = 1428.57\n"
          ],
          "name": "stdout"
        }
      ]
    },
    {
      "cell_type": "code",
      "metadata": {
        "id": "rXTzu1I09-0f",
        "colab_type": "code",
        "colab": {
          "base_uri": "https://localhost:8080/",
          "height": 52
        },
        "outputId": "eb30b67d-7f91-4524-f886-940ea736a5bd"
      },
      "source": [
        "print(\"f(x) = %.2fx + %.2f\" %(w, b))\n",
        "print(\"예측값: [%.2f]\" %(w * 8 + b))"
      ],
      "execution_count": 33,
      "outputs": [
        {
          "output_type": "stream",
          "text": [
            "f(x) = 25642.86x + 1428.57\n",
            "예측값: [206571.43]\n"
          ],
          "name": "stdout"
        }
      ]
    }
  ]
}